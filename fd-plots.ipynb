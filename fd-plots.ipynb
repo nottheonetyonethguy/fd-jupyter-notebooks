{
 "cells": [
  {
   "cell_type": "code",
   "execution_count": null,
   "metadata": {
    "vscode": {
     "languageId": "julia"
    }
   },
   "outputs": [],
   "source": [
    "%pip install wheel\n",
    "%pip install pandas"
   ]
  },
  {
   "cell_type": "code",
   "execution_count": null,
   "metadata": {
    "vscode": {
     "languageId": "julia"
    }
   },
   "outputs": [],
   "source": [
    "import pandas as pd\n",
    "from manim import *"
   ]
  },
  {
   "cell_type": "code",
   "execution_count": null,
   "metadata": {},
   "outputs": [],
   "source": [
    "%%manim -qh -v WARNING Spiral15\n",
    "\n",
    "# config.background_color = WHITE\n",
    "df = pd.read_csv('spiral_15.csv')\n",
    "missn_time = df.get('missn_time').to_list()\n",
    "roll_deg = df.get('_roll__deg').to_list()\n",
    "\n",
    "# plt.plot(missn_time, roll_deg)\n",
    "# plt.show()\n",
    "\n",
    "\n",
    "class Spiral15(Scene):\n",
    "    def construct(self):\n",
    "        ax = Axes(\n",
    "            x_range = [min(missn_time), max(missn_time)+10,5],\n",
    "            y_range = [min(roll_deg), max(roll_deg), 5],\n",
    "            axis_config={'include_numbers': True, \n",
    "                         'tip_shape': StealthTip,\n",
    "                        #  'color': BLACK\n",
    "                        },\n",
    "            y_length = 7,\n",
    "        )\n",
    "        \n",
    "        x_label = ax.get_x_axis_label(\n",
    "            Tex(\"Mission Time\").scale(0.7))\n",
    "        y_label = ax.get_y_axis_label(\n",
    "            Tex(\"Roll angle\").scale(0.7))\n",
    "        \n",
    "        self.play(Create(x_label), Create(y_label))\n",
    "        # self.wait(1)\n",
    "        self.play(Write(ax))\n",
    "        # self.wait(1)\n",
    "        \n",
    "        plot = ax.plot_line_graph(missn_time, roll_deg, add_vertex_dots=False, line_color=WHITE)\n",
    "        self.play(Write(plot), run_time=5)\n",
    "        # self.wait(1)\n",
    "        \n",
    "        x_value = roll_deg.index(max(roll_deg))\n",
    "        print(x_value)\n",
    "        point = ax.c2p(missn_time[x_value], max(roll_deg))\n",
    "        label = Tex(\"Max. Amplitude\") \n",
    "        dot = Dot(point)# Create a label\n",
    "        label.next_to(dot, DR, buff=SMALL_BUFF)  # Position the label relative to the dot\n",
    "        self.play(Create(dot), Create(label))\n",
    "        \n",
    "        self.wait(2)"
   ]
  },
  {
   "cell_type": "code",
   "execution_count": null,
   "metadata": {
    "vscode": {
     "languageId": "julia"
    }
   },
   "outputs": [],
   "source": [
    "%%manim -qh -v WARNING Spiral30\n",
    "\n",
    "# config.background_color = WHITE\n",
    "df = pd.read_csv('spiral_30.csv')\n",
    "missn_time = df.get('missn_time').to_list()\n",
    "roll_deg = df.get('_roll__deg').to_list()\n",
    "\n",
    "# plt.plot(missn_time, roll_deg)\n",
    "# plt.show()\n",
    "\n",
    "class Spiral30(Scene):\n",
    "    def construct(self):\n",
    "        ax = Axes(\n",
    "            x_range = [min(missn_time), max(missn_time)+10, 10],\n",
    "            y_range = [min(roll_deg), max(roll_deg), 10],\n",
    "            axis_config={'include_numbers': True, \n",
    "                         'tip_shape': StealthTip,\n",
    "                        #  'color': BLACK\n",
    "                        },\n",
    "            y_length = 7,\n",
    "        )\n",
    "        \n",
    "        x_label = ax.get_x_axis_label(\n",
    "            Tex(\"Mission Time\").scale(0.7))\n",
    "        y_label = ax.get_y_axis_label(\n",
    "            Tex(\"Roll angle\").scale(0.7))\n",
    "        \n",
    "        self.play(Create(x_label), Create(y_label))\n",
    "        # self.wait(1)\n",
    "        self.play(Write(ax))\n",
    "        # self.wait(1)\n",
    "        \n",
    "        plot = ax.plot_line_graph(missn_time, roll_deg, add_vertex_dots=False, line_color=WHITE)\n",
    "        self.play(Write(plot), run_time=5)\n",
    "        # self.wait(1)\n",
    "        \n",
    "        x_value = roll_deg.index(max(roll_deg))\n",
    "        print(x_value)\n",
    "        point = ax.c2p(missn_time[x_value], max(roll_deg))\n",
    "        label = Tex(\"Max. Amplitude\") \n",
    "        dot = Dot(point)# Create a label\n",
    "        label.next_to(dot, DR, buff=SMALL_BUFF)  # Position the label relative to the dot\n",
    "        self.play(Create(dot), Create(label))\n",
    "        \n",
    "        self.wait(2)"
   ]
  },
  {
   "cell_type": "code",
   "execution_count": null,
   "metadata": {
    "vscode": {
     "languageId": "julia"
    }
   },
   "outputs": [],
   "source": [
    "%%manim -qh -v WARNING Spiral45\n",
    "\n",
    "# config.background_color = WHITE\n",
    "df = pd.read_csv('spiral_45.csv')\n",
    "missn_time = df.get('missn_time').to_list()\n",
    "roll_deg = df.get('_roll__deg').to_list()\n",
    "\n",
    "# plt.plot(missn_time, roll_deg)\n",
    "# plt.show()\n",
    "\n",
    "class Spiral45(Scene):\n",
    "    def construct(self):\n",
    "        ax = Axes(\n",
    "            x_range = [min(missn_time), max(missn_time)+10, 10],\n",
    "            y_range = [min(roll_deg), max(roll_deg), 10],\n",
    "            axis_config={'include_numbers': True, \n",
    "                         'tip_shape': StealthTip,\n",
    "                        #  'color': BLACK\n",
    "                        },\n",
    "            y_length = 7,\n",
    "        )\n",
    "        \n",
    "        x_label = ax.get_x_axis_label(\n",
    "            Tex(\"Mission Time\").scale(0.7))\n",
    "        y_label = ax.get_y_axis_label(\n",
    "            Tex(\"Roll angle\").scale(0.7))\n",
    "        \n",
    "        self.play(Create(x_label), Create(y_label))\n",
    "        # self.wait(1)\n",
    "        self.play(Write(ax))\n",
    "        # self.wait(1)\n",
    "        \n",
    "        plot = ax.plot_line_graph(missn_time, roll_deg, add_vertex_dots=False, line_color=WHITE)\n",
    "        self.play(Write(plot), run_time=5)\n",
    "        # self.wait(1)\n",
    "        \n",
    "        x_value = roll_deg.index(max(roll_deg))\n",
    "        print(x_value)\n",
    "        point = ax.c2p(missn_time[x_value], max(roll_deg))\n",
    "        label = Tex(\"Max. Amplitude\") \n",
    "        dot = Dot(point)# Create a label\n",
    "        label.next_to(dot, DR, buff=SMALL_BUFF)  # Position the label relative to the dot\n",
    "        self.play(Create(dot), Create(label))\n",
    "        \n",
    "        self.wait(2)"
   ]
  }
 ],
 "metadata": {
  "language_info": {
   "name": "python"
  },
  "orig_nbformat": 4
 },
 "nbformat": 4,
 "nbformat_minor": 2
}
